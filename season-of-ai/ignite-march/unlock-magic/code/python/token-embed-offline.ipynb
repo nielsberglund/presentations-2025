{
 "cells": [
  {
   "cell_type": "markdown",
   "metadata": {},
   "source": [
    "# Tokens and Embeddings\n",
    "\n",
    "Here we look at the tokens and embeddings of the text data. We will use the `transformers` library to load the pre-trained BERT model and tokenizer. We will then use the tokenizer to tokenize the text data and look at the tokens and embeddings."
   ]
  },
  {
   "cell_type": "code",
   "execution_count": null,
   "metadata": {},
   "outputs": [],
   "source": [
    "# get the necessary libraries\n",
    "from transformers import BertTokenizer, BertModel\n",
    "import torch"
   ]
  },
  {
   "cell_type": "code",
   "execution_count": null,
   "metadata": {},
   "outputs": [],
   "source": [
    "# Load pre-trained model tokenizer\n",
    "tokenizer = BertTokenizer.from_pretrained('bert-base-uncased')"
   ]
  },
  {
   "cell_type": "code",
   "execution_count": 5,
   "metadata": {},
   "outputs": [
    {
     "name": "stdout",
     "output_type": "stream",
     "text": [
      "['we', 'need', 'to', 'stop', 'ant', '##hr', '##op', '##omo', '##rp', '##hi', '##zing', 'chat', '##gp', '##t', '.']\n",
      "[2057, 2342, 2000, 2644, 14405, 8093, 7361, 19506, 14536, 4048, 6774, 11834, 21600, 2102, 1012]\n"
     ]
    }
   ],
   "source": [
    "# Tokenize input text\n",
    "#text = \"Once upon a time,\"\n",
    "text = \"We need to stop anthropomorphizing ChatGPT.\"\n",
    "tokens = tokenizer.tokenize(text)\n",
    "print(tokens)\n",
    "token_ids = tokenizer.convert_tokens_to_ids(tokens)\n",
    "print(token_ids)"
   ]
  },
  {
   "cell_type": "code",
   "execution_count": 6,
   "metadata": {},
   "outputs": [],
   "source": [
    "# Load pre-trained model\n",
    "model = BertModel.from_pretrained('bert-base-uncased')"
   ]
  },
  {
   "cell_type": "code",
   "execution_count": 7,
   "metadata": {},
   "outputs": [
    {
     "name": "stdout",
     "output_type": "stream",
     "text": [
      "tensor([[ 2057,  2342,  2000,  2644, 14405,  8093,  7361, 19506, 14536,  4048,\n",
      "          6774, 11834, 21600,  2102,  1012]])\n"
     ]
    }
   ],
   "source": [
    "# Convert token IDs to tensor\n",
    "input_ids = torch.tensor([token_ids])\n",
    "print(input_ids)"
   ]
  },
  {
   "cell_type": "code",
   "execution_count": 8,
   "metadata": {},
   "outputs": [
    {
     "name": "stdout",
     "output_type": "stream",
     "text": [
      "tensor([[[ 6.8755e-02,  5.2630e-02,  1.6248e-01,  ..., -6.8136e-01,\n",
      "           2.4855e-02,  2.9209e-01],\n",
      "         [ 1.3168e-01,  5.4850e-02,  2.7825e-01,  ..., -6.8561e-01,\n",
      "          -2.7146e-01,  3.2189e-04],\n",
      "         [-1.3295e-01, -2.3009e-01, -6.8416e-01,  ..., -4.9208e-01,\n",
      "          -2.5459e-01, -2.0726e-02],\n",
      "         ...,\n",
      "         [ 2.1965e-01,  1.2949e-01,  4.0878e-01,  ..., -6.9590e-01,\n",
      "          -5.6488e-02,  1.1724e-01],\n",
      "         [-6.5462e-02, -8.0915e-02,  1.3040e-01,  ..., -4.7972e-01,\n",
      "           2.1645e-02,  2.8639e-01],\n",
      "         [-2.0452e-02, -4.0751e-01,  5.9630e-02,  ..., -4.4704e-01,\n",
      "           2.8000e-01,  1.0796e-01]]])\n"
     ]
    }
   ],
   "source": [
    "# Get the embeddings\n",
    "with torch.no_grad():\n",
    "    outputs = model(input_ids)\n",
    "    embeddings = outputs.last_hidden_state\n",
    "\n",
    "print(embeddings)"
   ]
  }
 ],
 "metadata": {
  "kernelspec": {
   "display_name": "py3.12.4",
   "language": "python",
   "name": "python3"
  },
  "language_info": {
   "codemirror_mode": {
    "name": "ipython",
    "version": 3
   },
   "file_extension": ".py",
   "mimetype": "text/x-python",
   "name": "python",
   "nbconvert_exporter": "python",
   "pygments_lexer": "ipython3",
   "version": "3.12.5"
  }
 },
 "nbformat": 4,
 "nbformat_minor": 2
}
